{
 "cells": [
  {
   "cell_type": "markdown",
   "metadata": {},
   "source": [
    "# Python Workshop 9/22"
   ]
  },
  {
   "cell_type": "markdown",
   "metadata": {},
   "source": [
    "Note to instructors:\n",
    "\n",
    "Jupyter uses Markdown to format text in the cells. [Here's](https://github.com/adam-p/markdown-here/wiki/Markdown-Cheatsheet) a good cheat sheet to show how to comment on here. \n",
    "\n",
    "In order to get it on your laptop, make sure you have Python install and install it via pip\n",
    "`pip install jupyter`. The packages we'll need for this tutorial are `numpy`, `pandas`, and `matplotlib` so use pip to install those as well. Once you have those install, run `jupyter notebook` in your terminal and click the link it provides if it doesn't automatically open in your browser. [Here](https://jupyter-notebook.readthedocs.io/en/stable/examples/Notebook/Notebook%20Basics.html) is an overview of some of the basic functionality of jupyter notebooks and how to navigate."
   ]
  },
  {
   "cell_type": "markdown",
   "metadata": {},
   "source": [
    "# Importing Packages"
   ]
  },
  {
   "cell_type": "code",
   "execution_count": 32,
   "metadata": {},
   "outputs": [],
   "source": [
    "import pandas as pd\n",
    "import numpy as np\n",
    "import matplotlib.pyplot as plt"
   ]
  },
  {
   "cell_type": "markdown",
   "metadata": {},
   "source": [
    "# Basic"
   ]
  },
  {
   "cell_type": "markdown",
   "metadata": {},
   "source": [
    "## Variable assignment"
   ]
  },
  {
   "cell_type": "code",
   "execution_count": 3,
   "metadata": {},
   "outputs": [
    {
     "data": {
      "text/plain": [
       "4"
      ]
     },
     "execution_count": 3,
     "metadata": {},
     "output_type": "execute_result"
    }
   ],
   "source": [
    "2 + 2"
   ]
  },
  {
   "cell_type": "code",
   "execution_count": 4,
   "metadata": {},
   "outputs": [],
   "source": [
    "x = 2 + 2"
   ]
  },
  {
   "cell_type": "code",
   "execution_count": 5,
   "metadata": {},
   "outputs": [
    {
     "data": {
      "text/plain": [
       "4"
      ]
     },
     "execution_count": 5,
     "metadata": {},
     "output_type": "execute_result"
    }
   ],
   "source": [
    "x"
   ]
  },
  {
   "cell_type": "code",
   "execution_count": 6,
   "metadata": {},
   "outputs": [
    {
     "data": {
      "text/plain": [
       "7"
      ]
     },
     "execution_count": 6,
     "metadata": {},
     "output_type": "execute_result"
    }
   ],
   "source": [
    "x + 3"
   ]
  },
  {
   "cell_type": "markdown",
   "metadata": {},
   "source": [
    "## Data Types"
   ]
  },
  {
   "cell_type": "markdown",
   "metadata": {},
   "source": [
    "Continue adding basics from powerpoint..."
   ]
  },
  {
   "cell_type": "markdown",
   "metadata": {},
   "source": [
    "## Functions"
   ]
  },
  {
   "cell_type": "markdown",
   "metadata": {},
   "source": [
    "## Lists"
   ]
  },
  {
   "cell_type": "markdown",
   "metadata": {},
   "source": [
    "## Pandas"
   ]
  },
  {
   "cell_type": "markdown",
   "metadata": {},
   "source": [
    "Pandas is a powerful python library used for data analysis. Here we will go over only the basics where we'll try to summarize data and create some plots"
   ]
  },
  {
   "cell_type": "markdown",
   "metadata": {},
   "source": [
    "Here I'm just creating random data but once we find data we want to use we'll import it\n",
    "`df = pd.read_csv('path/to/data')`"
   ]
  },
  {
   "cell_type": "code",
   "execution_count": 7,
   "metadata": {},
   "outputs": [],
   "source": [
    "df = pd.DataFrame({\"continuous\": np.random.rand(10), \"category\": np.random.choice(['A', 'B', 'C'], 10, replace=True)}) "
   ]
  },
  {
   "cell_type": "markdown",
   "metadata": {},
   "source": [
    "We saw above that lists contain numbers, or more generally, lists contain data that we want to manipulate. Pandas introduces dataframes which we'll instead use to store the data we work with. They look like tables like this:"
   ]
  },
  {
   "cell_type": "code",
   "execution_count": 8,
   "metadata": {},
   "outputs": [
    {
     "data": {
      "text/html": [
       "<div>\n",
       "<style scoped>\n",
       "    .dataframe tbody tr th:only-of-type {\n",
       "        vertical-align: middle;\n",
       "    }\n",
       "\n",
       "    .dataframe tbody tr th {\n",
       "        vertical-align: top;\n",
       "    }\n",
       "\n",
       "    .dataframe thead th {\n",
       "        text-align: right;\n",
       "    }\n",
       "</style>\n",
       "<table border=\"1\" class=\"dataframe\">\n",
       "  <thead>\n",
       "    <tr style=\"text-align: right;\">\n",
       "      <th></th>\n",
       "      <th>category</th>\n",
       "      <th>continuous</th>\n",
       "    </tr>\n",
       "  </thead>\n",
       "  <tbody>\n",
       "    <tr>\n",
       "      <th>0</th>\n",
       "      <td>C</td>\n",
       "      <td>0.506058</td>\n",
       "    </tr>\n",
       "    <tr>\n",
       "      <th>1</th>\n",
       "      <td>B</td>\n",
       "      <td>0.001827</td>\n",
       "    </tr>\n",
       "    <tr>\n",
       "      <th>2</th>\n",
       "      <td>A</td>\n",
       "      <td>0.049434</td>\n",
       "    </tr>\n",
       "    <tr>\n",
       "      <th>3</th>\n",
       "      <td>C</td>\n",
       "      <td>0.192726</td>\n",
       "    </tr>\n",
       "    <tr>\n",
       "      <th>4</th>\n",
       "      <td>B</td>\n",
       "      <td>0.706403</td>\n",
       "    </tr>\n",
       "    <tr>\n",
       "      <th>5</th>\n",
       "      <td>C</td>\n",
       "      <td>0.725204</td>\n",
       "    </tr>\n",
       "    <tr>\n",
       "      <th>6</th>\n",
       "      <td>B</td>\n",
       "      <td>0.981750</td>\n",
       "    </tr>\n",
       "    <tr>\n",
       "      <th>7</th>\n",
       "      <td>C</td>\n",
       "      <td>0.782325</td>\n",
       "    </tr>\n",
       "    <tr>\n",
       "      <th>8</th>\n",
       "      <td>A</td>\n",
       "      <td>0.860355</td>\n",
       "    </tr>\n",
       "    <tr>\n",
       "      <th>9</th>\n",
       "      <td>A</td>\n",
       "      <td>0.042525</td>\n",
       "    </tr>\n",
       "  </tbody>\n",
       "</table>\n",
       "</div>"
      ],
      "text/plain": [
       "  category  continuous\n",
       "0        C    0.506058\n",
       "1        B    0.001827\n",
       "2        A    0.049434\n",
       "3        C    0.192726\n",
       "4        B    0.706403\n",
       "5        C    0.725204\n",
       "6        B    0.981750\n",
       "7        C    0.782325\n",
       "8        A    0.860355\n",
       "9        A    0.042525"
      ]
     },
     "execution_count": 8,
     "metadata": {},
     "output_type": "execute_result"
    }
   ],
   "source": [
    "df"
   ]
  },
  {
   "cell_type": "markdown",
   "metadata": {},
   "source": [
    "We can take the mean and standard deviation to summarize the data. The mean is like the average value which is pretty much describing what value the data is close to. For example, if for one week Julie studies 5 hours on Monday, 4 on Tuesday, 3 on Wednesday, 3 on Thursday and 0 on Friday. The mean would be 5 + 4 + 3 + 3 + 0/ 5 = 3 so on average Julie studied 3 hours per day that week. The standard deviation measures how dispersed the data is. Going back to the example for Julie, if she had studied 3 hours consistently each day instead, there would be no dispersion in the data since the values are all the same so the standard deviation is 0."
   ]
  },
  {
   "cell_type": "markdown",
   "metadata": {},
   "source": [
    "We can select data using the syntax with the name of the column you want to select in square brackets: [\"column name\"]. Note that it's case sensitive so you must type in the column name exactly how it's displayed"
   ]
  },
  {
   "cell_type": "code",
   "execution_count": 9,
   "metadata": {},
   "outputs": [
    {
     "data": {
      "text/plain": [
       "0.4848606856868291"
      ]
     },
     "execution_count": 9,
     "metadata": {},
     "output_type": "execute_result"
    }
   ],
   "source": [
    "mean = df[\"continuous\"].mean()\n",
    "mean"
   ]
  },
  {
   "cell_type": "code",
   "execution_count": 10,
   "metadata": {},
   "outputs": [
    {
     "data": {
      "text/plain": [
       "0.3782409537388958"
      ]
     },
     "execution_count": 10,
     "metadata": {},
     "output_type": "execute_result"
    }
   ],
   "source": [
    "std = df[\"continuous\"].std()\n",
    "std"
   ]
  },
  {
   "cell_type": "code",
   "execution_count": 71,
   "metadata": {},
   "outputs": [
    {
     "data": {
      "image/png": "[encoded data removed]",
      "text/plain": [
       "<matplotlib.figure.Figure at 0x7f1d03b89748>"
      ]
     },
     "metadata": {},
     "output_type": "display_data"
    }
   ],
   "source": [
    "ax = df[\"continuous\"].plot(kind='line', title='line plot', x='time', y='value')\n",
    "ax.fill_between(df.index, df['continuous'] - std, df['continuous'] + std, alpha=0.2)\n",
    "ax.axhline(y=mean, color='r')\n",
    "ax.set_xlabel(\"Time\")\n",
    "ax.set_ylabel(\"Value\")\n",
    "plt.show()"
   ]
  },
  {
   "cell_type": "markdown",
   "metadata": {},
   "source": [
    "## Plotting with Pandas\n",
    "https://pandas.pydata.org/pandas-docs/stable/generated/pandas.DataFrame.plot.html"
   ]
  },
  {
   "cell_type": "code",
   "execution_count": 30,
   "metadata": {},
   "outputs": [
    {
     "data": {
      "image/png": "[encoded data removed]",
      "text/plain": [
       "<matplotlib.figure.Figure at 0x7f1d042c1da0>"
      ]
     },
     "metadata": {},
     "output_type": "display_data"
    }
   ],
   "source": [
    "ax = df[\"continuous\"].plot(kind='line', title='line plot')\n",
    "ax.set_xlabel(\"Time\")\n",
    "ax.set_ylabel(\"Value\")\n",
    "plt.show()"
   ]
  },
  {
   "cell_type": "code",
   "execution_count": 31,
   "metadata": {},
   "outputs": [
    {
     "data": {
      "image/png": "[encoded data removed]",
      "text/plain": [
       "<matplotlib.figure.Figure at 0x7f1d0e4eab00>"
      ]
     },
     "metadata": {},
     "output_type": "display_data"
    }
   ],
   "source": [
    "ax = df[\"category\"].value_counts().plot(kind='barh', title='bar plot', x='category', y='count')\n",
    "ax.set_xlabel(\"Count\")\n",
    "ax.set_ylabel(\"Category\")\n",
    "plt.show()"
   ]
  },
  {
   "cell_type": "markdown",
   "metadata": {},
   "source": [
    "## Preparing data (not part of workshop)"
   ]
  },
  {
   "cell_type": "code",
   "execution_count": 34,
   "metadata": {},
   "outputs": [],
   "source": [
    "import os"
   ]
  },
  {
   "cell_type": "code",
   "execution_count": 35,
   "metadata": {},
   "outputs": [],
   "source": [
    "health_df = pd.read_csv(os.path.join(\"data\", \"Public_Health_Statistics-_Life_Expectancy_By_Community_Area.csv\"))"
   ]
  },
  {
   "cell_type": "code",
   "execution_count": 38,
   "metadata": {},
   "outputs": [
    {
     "name": "stdout",
     "output_type": "stream",
     "text": [
      "<class 'pandas.core.frame.DataFrame'>\n",
      "RangeIndex: 78 entries, 0 to 77\n",
      "Data columns (total 11 columns):\n",
      "Community Area Number    77 non-null float64\n",
      "Community Area           78 non-null object\n",
      "1990 Life Expectancy     78 non-null float64\n",
      "1990 Lower 95% CI        78 non-null float64\n",
      "1990 Upper 95% CI        78 non-null float64\n",
      "2000 Life Expectancy     78 non-null float64\n",
      "2000 Lower 95% CI        78 non-null float64\n",
      "2000 Upper 95% CI        78 non-null float64\n",
      "2010 Life Expectancy     78 non-null float64\n",
      "2010 Lower 95% CI        78 non-null float64\n",
      "2010 Upper 95% CI        78 non-null float64\n",
      "dtypes: float64(10), object(1)\n",
      "memory usage: 6.8+ KB\n"
     ]
    }
   ],
   "source": [
    "health_df.info()"
   ]
  },
  {
   "cell_type": "markdown",
   "metadata": {},
   "source": [
    "Average life expectancy data. To make it easier for students to work with, we'll get rid of the confidence interval columns and only keep 2010 and 2000 life expectancy"
   ]
  },
  {
   "cell_type": "code",
   "execution_count": 43,
   "metadata": {},
   "outputs": [],
   "source": [
    "health_df[[\"Community Area\", \"2000 Life Expectancy\", \"2010 Life Expectancy\"]].to_csv(\n",
    "    os.path.join(\"data\", \"cleaned_health.csv\"), index=False)"
   ]
  },
  {
   "cell_type": "code",
   "execution_count": 44,
   "metadata": {},
   "outputs": [],
   "source": [
    "parks_df = pd.read_csv(os.path.join(\"data\", \"CPD_Parks.csv\"))"
   ]
  },
  {
   "cell_type": "markdown",
   "metadata": {},
   "source": [
    "Boundaries of chicago park districts with different characteristics. It may be a bit overwhelming to work with 77 columns so I'll only include location and area size for now; feel free to add others"
   ]
  },
  {
   "cell_type": "code",
   "execution_count": 45,
   "metadata": {},
   "outputs": [
    {
     "name": "stdout",
     "output_type": "stream",
     "text": [
      "<class 'pandas.core.frame.DataFrame'>\n",
      "RangeIndex: 597 entries, 0 to 596\n",
      "Data columns (total 77 columns):\n",
      "PARK          597 non-null object\n",
      "PARK_NO       597 non-null int64\n",
      "LOCATION      596 non-null object\n",
      "ZIP           596 non-null float64\n",
      "ACRES         597 non-null float64\n",
      "WARD          597 non-null int64\n",
      "PARK_CLASS    597 non-null object\n",
      "WHEELCHR_A    597 non-null int64\n",
      "ALFRED_CAL    597 non-null int64\n",
      "ARCHERY_RA    597 non-null int64\n",
      "ARTIFICIAL    597 non-null int64\n",
      "BAND_SHELL    597 non-null int64\n",
      "BASEBALL_B    597 non-null int64\n",
      "BASKETBALL    597 non-null int64\n",
      "BASKETBA_1    597 non-null int64\n",
      "BEACH         597 non-null int64\n",
      "BOAT_LAUNC    597 non-null int64\n",
      "BOAT_LAU_1    597 non-null int64\n",
      "BOAT_SLIPS    597 non-null int64\n",
      "BOCCE_COUR    597 non-null int64\n",
      "BOWLING_GR    597 non-null int64\n",
      "CASTING_PI    597 non-null int64\n",
      "FOOTBALL_S    597 non-null int64\n",
      "COMMUNITY_    597 non-null int64\n",
      "CONSERVATO    597 non-null int64\n",
      "CULTURAL_C    597 non-null int64\n",
      "DOG_FRIEND    597 non-null int64\n",
      "FITNESS_CE    597 non-null int64\n",
      "FITNESS_CO    597 non-null int64\n",
      "GALLERY       597 non-null int64\n",
      "GARDEN        597 non-null int64\n",
      "GOLF_COURS    597 non-null int64\n",
      "GOLF_DRIVI    597 non-null int64\n",
      "GOLF_PUTTI    597 non-null int64\n",
      "GYMNASIUM     597 non-null int64\n",
      "GYMNASTIC_    597 non-null int64\n",
      "HANDBALL_R    597 non-null int64\n",
      "HORSESHOE_    597 non-null int64\n",
      "ICESKATING    597 non-null int64\n",
      "POOL_INDOO    597 non-null int64\n",
      "BASEBALL_J    597 non-null int64\n",
      "MOUNTAIN_B    597 non-null int64\n",
      "NATURE_CEN    597 non-null int64\n",
      "POOL_OUTDO    597 non-null int64\n",
      "ZOO           597 non-null int64\n",
      "PLAYGROUND    597 non-null int64\n",
      "PLAYGROU_1    597 non-null int64\n",
      "ROWING_CLU    597 non-null int64\n",
      "VOLLEYBALL    597 non-null int64\n",
      "SENIOR_CEN    597 non-null int64\n",
      "SHUFFLEBOA    597 non-null int64\n",
      "SKATE_PARK    597 non-null int64\n",
      "SLED_HILL     597 non-null int64\n",
      "SPORT_ROLL    597 non-null int64\n",
      "SPRAY_FEAT    597 non-null int64\n",
      "BASEBALL_S    597 non-null int64\n",
      "TENNIS_COU    597 non-null int64\n",
      "TRACK         597 non-null int64\n",
      "VOLLEYBA_1    597 non-null int64\n",
      "WATER_PLAY    597 non-null int64\n",
      "WATER_SLID    597 non-null int64\n",
      "BOXING_CEN    597 non-null int64\n",
      "WETLAND_AR    597 non-null int64\n",
      "LAGOON        597 non-null int64\n",
      "CRICKET_FI    597 non-null int64\n",
      "CLIMBING_W    597 non-null int64\n",
      "GAME_TABLE    597 non-null int64\n",
      "SHAPE_AREA    597 non-null float64\n",
      "SHAPE_LEN     597 non-null float64\n",
      "CAROUSEL      597 non-null int64\n",
      "CROQUET       597 non-null int64\n",
      "HANDBALL_I    597 non-null int64\n",
      "HARBOR        597 non-null int64\n",
      "MODELTRAIN    597 non-null int64\n",
      "MODELYACHT    597 non-null int64\n",
      "NATURE_BIR    597 non-null int64\n",
      "MINIGOLF      597 non-null int64\n",
      "dtypes: float64(4), int64(70), object(3)\n",
      "memory usage: 359.2+ KB\n"
     ]
    }
   ],
   "source": [
    "parks_df.info()"
   ]
  },
  {
   "cell_type": "code",
   "execution_count": 47,
   "metadata": {},
   "outputs": [
    {
     "data": {
      "text/html": [
       "<div>\n",
       "<style scoped>\n",
       "    .dataframe tbody tr th:only-of-type {\n",
       "        vertical-align: middle;\n",
       "    }\n",
       "\n",
       "    .dataframe tbody tr th {\n",
       "        vertical-align: top;\n",
       "    }\n",
       "\n",
       "    .dataframe thead th {\n",
       "        text-align: right;\n",
       "    }\n",
       "</style>\n",
       "<table border=\"1\" class=\"dataframe\">\n",
       "  <thead>\n",
       "    <tr style=\"text-align: right;\">\n",
       "      <th></th>\n",
       "      <th>PARK</th>\n",
       "      <th>PARK_NO</th>\n",
       "      <th>LOCATION</th>\n",
       "      <th>ZIP</th>\n",
       "      <th>ACRES</th>\n",
       "      <th>WARD</th>\n",
       "      <th>PARK_CLASS</th>\n",
       "      <th>WHEELCHR_A</th>\n",
       "      <th>ALFRED_CAL</th>\n",
       "      <th>ARCHERY_RA</th>\n",
       "      <th>...</th>\n",
       "      <th>SHAPE_AREA</th>\n",
       "      <th>SHAPE_LEN</th>\n",
       "      <th>CAROUSEL</th>\n",
       "      <th>CROQUET</th>\n",
       "      <th>HANDBALL_I</th>\n",
       "      <th>HARBOR</th>\n",
       "      <th>MODELTRAIN</th>\n",
       "      <th>MODELYACHT</th>\n",
       "      <th>NATURE_BIR</th>\n",
       "      <th>MINIGOLF</th>\n",
       "    </tr>\n",
       "  </thead>\n",
       "  <tbody>\n",
       "    <tr>\n",
       "      <th>0</th>\n",
       "      <td>TILTON (GEORGE)</td>\n",
       "      <td>1064</td>\n",
       "      <td>305 N KOSTNER</td>\n",
       "      <td>60624.0</td>\n",
       "      <td>1.14</td>\n",
       "      <td>28</td>\n",
       "      <td>NEIGHBORHOOD PARK</td>\n",
       "      <td>0</td>\n",
       "      <td>0</td>\n",
       "      <td>0</td>\n",
       "      <td>...</td>\n",
       "      <td>42733.898744</td>\n",
       "      <td>829.431236</td>\n",
       "      <td>0</td>\n",
       "      <td>0</td>\n",
       "      <td>0</td>\n",
       "      <td>0</td>\n",
       "      <td>0</td>\n",
       "      <td>0</td>\n",
       "      <td>0</td>\n",
       "      <td>0</td>\n",
       "    </tr>\n",
       "    <tr>\n",
       "      <th>1</th>\n",
       "      <td>BRAINERD</td>\n",
       "      <td>177</td>\n",
       "      <td>1246 W 92ND ST</td>\n",
       "      <td>60620.0</td>\n",
       "      <td>9.26</td>\n",
       "      <td>21</td>\n",
       "      <td>COMMUNITY PARK</td>\n",
       "      <td>0</td>\n",
       "      <td>0</td>\n",
       "      <td>0</td>\n",
       "      <td>...</td>\n",
       "      <td>357991.194763</td>\n",
       "      <td>2393.296180</td>\n",
       "      <td>0</td>\n",
       "      <td>0</td>\n",
       "      <td>0</td>\n",
       "      <td>0</td>\n",
       "      <td>0</td>\n",
       "      <td>0</td>\n",
       "      <td>0</td>\n",
       "      <td>0</td>\n",
       "    </tr>\n",
       "    <tr>\n",
       "      <th>2</th>\n",
       "      <td>ELSTON (DANIEL)</td>\n",
       "      <td>1097</td>\n",
       "      <td>3461 N TROY ST</td>\n",
       "      <td>60618.0</td>\n",
       "      <td>0.52</td>\n",
       "      <td>33</td>\n",
       "      <td>MINI-PARK</td>\n",
       "      <td>0</td>\n",
       "      <td>0</td>\n",
       "      <td>0</td>\n",
       "      <td>...</td>\n",
       "      <td>17678.352371</td>\n",
       "      <td>523.238015</td>\n",
       "      <td>0</td>\n",
       "      <td>0</td>\n",
       "      <td>0</td>\n",
       "      <td>0</td>\n",
       "      <td>0</td>\n",
       "      <td>0</td>\n",
       "      <td>0</td>\n",
       "      <td>0</td>\n",
       "    </tr>\n",
       "    <tr>\n",
       "      <th>3</th>\n",
       "      <td>WENDT (KENNETH)</td>\n",
       "      <td>1145</td>\n",
       "      <td>667 W ROSCOE ST</td>\n",
       "      <td>60657.0</td>\n",
       "      <td>0.17</td>\n",
       "      <td>44</td>\n",
       "      <td>MINI-PARK</td>\n",
       "      <td>0</td>\n",
       "      <td>0</td>\n",
       "      <td>0</td>\n",
       "      <td>...</td>\n",
       "      <td>6595.907769</td>\n",
       "      <td>364.574978</td>\n",
       "      <td>0</td>\n",
       "      <td>0</td>\n",
       "      <td>0</td>\n",
       "      <td>0</td>\n",
       "      <td>0</td>\n",
       "      <td>0</td>\n",
       "      <td>0</td>\n",
       "      <td>0</td>\n",
       "    </tr>\n",
       "    <tr>\n",
       "      <th>4</th>\n",
       "      <td>DIXON (LORRAINE)</td>\n",
       "      <td>1210</td>\n",
       "      <td>8931 S DAUPHIN AVE</td>\n",
       "      <td>60619.0</td>\n",
       "      <td>6.72</td>\n",
       "      <td>8</td>\n",
       "      <td>LINEAR PARK</td>\n",
       "      <td>0</td>\n",
       "      <td>0</td>\n",
       "      <td>0</td>\n",
       "      <td>...</td>\n",
       "      <td>255649.300263</td>\n",
       "      <td>5729.393137</td>\n",
       "      <td>0</td>\n",
       "      <td>0</td>\n",
       "      <td>0</td>\n",
       "      <td>0</td>\n",
       "      <td>0</td>\n",
       "      <td>0</td>\n",
       "      <td>0</td>\n",
       "      <td>0</td>\n",
       "    </tr>\n",
       "  </tbody>\n",
       "</table>\n",
       "<p>5 rows × 77 columns</p>\n",
       "</div>"
      ],
      "text/plain": [
       "               PARK  PARK_NO            LOCATION      ZIP  ACRES  WARD  \\\n",
       "0   TILTON (GEORGE)     1064       305 N KOSTNER  60624.0   1.14    28   \n",
       "1          BRAINERD      177      1246 W 92ND ST  60620.0   9.26    21   \n",
       "2   ELSTON (DANIEL)     1097      3461 N TROY ST  60618.0   0.52    33   \n",
       "3   WENDT (KENNETH)     1145     667 W ROSCOE ST  60657.0   0.17    44   \n",
       "4  DIXON (LORRAINE)     1210  8931 S DAUPHIN AVE  60619.0   6.72     8   \n",
       "\n",
       "          PARK_CLASS  WHEELCHR_A  ALFRED_CAL  ARCHERY_RA    ...     \\\n",
       "0  NEIGHBORHOOD PARK           0           0           0    ...      \n",
       "1     COMMUNITY PARK           0           0           0    ...      \n",
       "2          MINI-PARK           0           0           0    ...      \n",
       "3          MINI-PARK           0           0           0    ...      \n",
       "4        LINEAR PARK           0           0           0    ...      \n",
       "\n",
       "      SHAPE_AREA    SHAPE_LEN  CAROUSEL  CROQUET  HANDBALL_I  HARBOR  \\\n",
       "0   42733.898744   829.431236         0        0           0       0   \n",
       "1  357991.194763  2393.296180         0        0           0       0   \n",
       "2   17678.352371   523.238015         0        0           0       0   \n",
       "3    6595.907769   364.574978         0        0           0       0   \n",
       "4  255649.300263  5729.393137         0        0           0       0   \n",
       "\n",
       "   MODELTRAIN  MODELYACHT  NATURE_BIR  MINIGOLF  \n",
       "0           0           0           0         0  \n",
       "1           0           0           0         0  \n",
       "2           0           0           0         0  \n",
       "3           0           0           0         0  \n",
       "4           0           0           0         0  \n",
       "\n",
       "[5 rows x 77 columns]"
      ]
     },
     "execution_count": 47,
     "metadata": {},
     "output_type": "execute_result"
    }
   ],
   "source": [
    "parks_df.head(5)"
   ]
  },
  {
   "cell_type": "code",
   "execution_count": 48,
   "metadata": {},
   "outputs": [],
   "source": [
    "parks_df[[\"PARK\", \"ZIP\", \"ACRES\", \"WARD\"]].to_csv(os.path.join(\"data\", \"cleaned_park.csv\"), index=False)"
   ]
  },
  {
   "cell_type": "markdown",
   "metadata": {},
   "source": [
    "Libraries - number of vistors per month by location in 2014"
   ]
  },
  {
   "cell_type": "code",
   "execution_count": 49,
   "metadata": {},
   "outputs": [],
   "source": [
    "library_df = pd.read_csv(os.path.join(\"data\", \"Libraries_-_2014_Visitors_by_Location.csv\"))"
   ]
  },
  {
   "cell_type": "code",
   "execution_count": 50,
   "metadata": {},
   "outputs": [
    {
     "name": "stdout",
     "output_type": "stream",
     "text": [
      "<class 'pandas.core.frame.DataFrame'>\n",
      "RangeIndex: 79 entries, 0 to 78\n",
      "Data columns (total 17 columns):\n",
      "LOCATION     79 non-null object\n",
      "ADDRESS      79 non-null object\n",
      "CITY         79 non-null object\n",
      "ZIP CODE     79 non-null int64\n",
      "JANUARY      79 non-null int64\n",
      "FEBRUARY     79 non-null int64\n",
      "MARCH        79 non-null int64\n",
      "APRIL        79 non-null int64\n",
      "MAY          79 non-null int64\n",
      "JUNE         79 non-null int64\n",
      "JULY         79 non-null int64\n",
      "AUGUST       79 non-null int64\n",
      "SEPTEMBER    79 non-null int64\n",
      "OCTOBER      79 non-null int64\n",
      "NOVEMBER     79 non-null int64\n",
      "DECEMBER     79 non-null int64\n",
      "YTD          79 non-null int64\n",
      "dtypes: int64(14), object(3)\n",
      "memory usage: 10.6+ KB\n"
     ]
    }
   ],
   "source": [
    "library_df.info()"
   ]
  },
  {
   "cell_type": "markdown",
   "metadata": {},
   "source": [
    "This is probably fine to keep as is. I'll re-write with the \"clean\" prefix for consistency"
   ]
  },
  {
   "cell_type": "code",
   "execution_count": 51,
   "metadata": {},
   "outputs": [],
   "source": [
    "library_df.to_csv(os.path.join(\"data\", \"cleaned_libraries.csv\"), index=False)"
   ]
  },
  {
   "cell_type": "markdown",
   "metadata": {},
   "source": [
    "Complaints/cases received by the Civilian Office of Police Accountability"
   ]
  },
  {
   "cell_type": "code",
   "execution_count": 53,
   "metadata": {},
   "outputs": [],
   "source": [
    "cases_df = pd.read_csv(os.path.join(\"data\", \"COPA_Cases_-_By_Complainant_or_Subject.csv\"))"
   ]
  },
  {
   "cell_type": "code",
   "execution_count": 56,
   "metadata": {},
   "outputs": [
    {
     "data": {
      "text/html": [
       "<div>\n",
       "<style scoped>\n",
       "    .dataframe tbody tr th:only-of-type {\n",
       "        vertical-align: middle;\n",
       "    }\n",
       "\n",
       "    .dataframe tbody tr th {\n",
       "        vertical-align: top;\n",
       "    }\n",
       "\n",
       "    .dataframe thead th {\n",
       "        text-align: right;\n",
       "    }\n",
       "</style>\n",
       "<table border=\"1\" class=\"dataframe\">\n",
       "  <thead>\n",
       "    <tr style=\"text-align: right;\">\n",
       "      <th></th>\n",
       "      <th>LOG_NO</th>\n",
       "      <th>COMPLAINT_DATE</th>\n",
       "      <th>ASSIGNMENT</th>\n",
       "      <th>CASE_TYPE</th>\n",
       "      <th>CURRENT_STATUS</th>\n",
       "      <th>CURRENT_CATEGORY</th>\n",
       "      <th>FINDING_CODE</th>\n",
       "      <th>POLICE_SHOOTING</th>\n",
       "      <th>BEAT</th>\n",
       "      <th>RACE_OF_COMPLAINANT</th>\n",
       "      <th>SEX_OF_COMPLAINANT</th>\n",
       "      <th>AGE_OF_COMPLAINANT</th>\n",
       "      <th>COMPLAINT_HOUR</th>\n",
       "      <th>COMPLAINT_DAY</th>\n",
       "      <th>COMPLAINT_MONTH</th>\n",
       "    </tr>\n",
       "  </thead>\n",
       "  <tbody>\n",
       "    <tr>\n",
       "      <th>0</th>\n",
       "      <td>1008899</td>\n",
       "      <td>09/01/2007 12:34:36 AM</td>\n",
       "      <td>IPRA</td>\n",
       "      <td>Complaint</td>\n",
       "      <td>Closed</td>\n",
       "      <td>Miscellaneous</td>\n",
       "      <td>NO AFFIDAVIT</td>\n",
       "      <td>No</td>\n",
       "      <td>433</td>\n",
       "      <td>Hispanic</td>\n",
       "      <td>Male</td>\n",
       "      <td>30-39</td>\n",
       "      <td>0</td>\n",
       "      <td>7</td>\n",
       "      <td>9</td>\n",
       "    </tr>\n",
       "    <tr>\n",
       "      <th>1</th>\n",
       "      <td>1008901</td>\n",
       "      <td>09/01/2007 04:16:33 AM</td>\n",
       "      <td>IPRA</td>\n",
       "      <td>Complaint</td>\n",
       "      <td>Closed</td>\n",
       "      <td>Miscellaneous</td>\n",
       "      <td>NOT SUSTAINED</td>\n",
       "      <td>No</td>\n",
       "      <td>1933</td>\n",
       "      <td>African American / Black</td>\n",
       "      <td>Female</td>\n",
       "      <td>20-29</td>\n",
       "      <td>4</td>\n",
       "      <td>7</td>\n",
       "      <td>9</td>\n",
       "    </tr>\n",
       "    <tr>\n",
       "      <th>2</th>\n",
       "      <td>1008901</td>\n",
       "      <td>09/01/2007 04:16:33 AM</td>\n",
       "      <td>IPRA</td>\n",
       "      <td>Complaint</td>\n",
       "      <td>Closed</td>\n",
       "      <td>Miscellaneous</td>\n",
       "      <td>NOT SUSTAINED</td>\n",
       "      <td>No</td>\n",
       "      <td>1933</td>\n",
       "      <td>African American / Black</td>\n",
       "      <td>Female</td>\n",
       "      <td>20-29</td>\n",
       "      <td>4</td>\n",
       "      <td>7</td>\n",
       "      <td>9</td>\n",
       "    </tr>\n",
       "    <tr>\n",
       "      <th>3</th>\n",
       "      <td>1008909</td>\n",
       "      <td>09/01/2007 02:59:50 PM</td>\n",
       "      <td>IPRA</td>\n",
       "      <td>Complaint</td>\n",
       "      <td>Closed</td>\n",
       "      <td>Death or Injury In Custody</td>\n",
       "      <td>UNFOUNDED</td>\n",
       "      <td>No</td>\n",
       "      <td>1132</td>\n",
       "      <td>African American / Black</td>\n",
       "      <td>Male</td>\n",
       "      <td>Unknown</td>\n",
       "      <td>14</td>\n",
       "      <td>7</td>\n",
       "      <td>9</td>\n",
       "    </tr>\n",
       "    <tr>\n",
       "      <th>4</th>\n",
       "      <td>1008910</td>\n",
       "      <td>09/01/2007 03:06:08 PM</td>\n",
       "      <td>IPRA</td>\n",
       "      <td>Complaint</td>\n",
       "      <td>Closed</td>\n",
       "      <td>Miscellaneous</td>\n",
       "      <td>NOT SUSTAINED</td>\n",
       "      <td>No</td>\n",
       "      <td>1135 | 1134</td>\n",
       "      <td>African American / Black</td>\n",
       "      <td>Male</td>\n",
       "      <td>20-29</td>\n",
       "      <td>15</td>\n",
       "      <td>7</td>\n",
       "      <td>9</td>\n",
       "    </tr>\n",
       "  </tbody>\n",
       "</table>\n",
       "</div>"
      ],
      "text/plain": [
       "    LOG_NO          COMPLAINT_DATE ASSIGNMENT  CASE_TYPE CURRENT_STATUS  \\\n",
       "0  1008899  09/01/2007 12:34:36 AM       IPRA  Complaint         Closed   \n",
       "1  1008901  09/01/2007 04:16:33 AM       IPRA  Complaint         Closed   \n",
       "2  1008901  09/01/2007 04:16:33 AM       IPRA  Complaint         Closed   \n",
       "3  1008909  09/01/2007 02:59:50 PM       IPRA  Complaint         Closed   \n",
       "4  1008910  09/01/2007 03:06:08 PM       IPRA  Complaint         Closed   \n",
       "\n",
       "             CURRENT_CATEGORY   FINDING_CODE POLICE_SHOOTING         BEAT  \\\n",
       "0               Miscellaneous   NO AFFIDAVIT              No          433   \n",
       "1               Miscellaneous  NOT SUSTAINED              No         1933   \n",
       "2               Miscellaneous  NOT SUSTAINED              No         1933   \n",
       "3  Death or Injury In Custody      UNFOUNDED              No         1132   \n",
       "4               Miscellaneous  NOT SUSTAINED              No  1135 | 1134   \n",
       "\n",
       "        RACE_OF_COMPLAINANT SEX_OF_COMPLAINANT AGE_OF_COMPLAINANT  \\\n",
       "0                  Hispanic               Male              30-39   \n",
       "1  African American / Black             Female              20-29   \n",
       "2  African American / Black             Female              20-29   \n",
       "3  African American / Black               Male            Unknown   \n",
       "4  African American / Black               Male              20-29   \n",
       "\n",
       "   COMPLAINT_HOUR  COMPLAINT_DAY  COMPLAINT_MONTH  \n",
       "0               0              7                9  \n",
       "1               4              7                9  \n",
       "2               4              7                9  \n",
       "3              14              7                9  \n",
       "4              15              7                9  "
      ]
     },
     "execution_count": 56,
     "metadata": {},
     "output_type": "execute_result"
    }
   ],
   "source": [
    "cases_df.head()"
   ]
  },
  {
   "cell_type": "code",
   "execution_count": 55,
   "metadata": {},
   "outputs": [
    {
     "name": "stdout",
     "output_type": "stream",
     "text": [
      "<class 'pandas.core.frame.DataFrame'>\n",
      "RangeIndex: 85001 entries, 0 to 85000\n",
      "Data columns (total 15 columns):\n",
      "LOG_NO                 85001 non-null int64\n",
      "COMPLAINT_DATE         85001 non-null object\n",
      "ASSIGNMENT             85001 non-null object\n",
      "CASE_TYPE              27999 non-null object\n",
      "CURRENT_STATUS         27999 non-null object\n",
      "CURRENT_CATEGORY       27926 non-null object\n",
      "FINDING_CODE           26721 non-null object\n",
      "POLICE_SHOOTING        27999 non-null object\n",
      "BEAT                   27999 non-null object\n",
      "RACE_OF_COMPLAINANT    26493 non-null object\n",
      "SEX_OF_COMPLAINANT     26493 non-null object\n",
      "AGE_OF_COMPLAINANT     26493 non-null object\n",
      "COMPLAINT_HOUR         85001 non-null int64\n",
      "COMPLAINT_DAY          85001 non-null int64\n",
      "COMPLAINT_MONTH        85001 non-null int64\n",
      "dtypes: int64(4), object(11)\n",
      "memory usage: 9.7+ MB\n"
     ]
    }
   ],
   "source": [
    "cases_df.info()"
   ]
  },
  {
   "cell_type": "markdown",
   "metadata": {},
   "source": [
    "Drop rows containing null so that students don't need to deal with that. I'll leave in all the columns so they have a dataset that's a bit more challenging to interpret"
   ]
  },
  {
   "cell_type": "code",
   "execution_count": 70,
   "metadata": {},
   "outputs": [],
   "source": [
    "cases_df.replace(\"Unknown\", np.nan)\\\n",
    "    .dropna(axis=0, how='any')\\\n",
    "    .to_csv(os.path.join(\"data\", \"cleaned_cases.csv\"), index=False)"
   ]
  }
 ],
 "metadata": {
  "kernelspec": {
   "display_name": "Python 3",
   "language": "python",
   "name": "python3"
  }
 },
 "nbformat": 4,
 "nbformat_minor": 2
}
